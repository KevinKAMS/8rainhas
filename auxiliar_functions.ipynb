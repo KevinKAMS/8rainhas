{
 "cells": [
  {
   "cell_type": "code",
   "execution_count": 1,
   "id": "2eb8a40c",
   "metadata": {},
   "outputs": [],
   "source": [
    "import pandas as pd\n",
    "import numpy as np\n",
    "import math\n",
    "import os\n",
    "import random"
   ]
  },
  {
   "cell_type": "code",
   "execution_count": 30,
   "id": "c675c8dd",
   "metadata": {},
   "outputs": [],
   "source": [
    "#Função para transformar fenotipo em genotipo\n",
    "#Fenotipo é um array com uma permutação de 8 numeros de 0 a 7\n",
    "#Genotipo é um array com uma permutação de 8 trios de 0 ou 1\n",
    "def fen_to_gen(fenotipo):\n",
    "    genotipo = []\n",
    "    for value in fenotipo:\n",
    "        genotipo.append(bin(value)[2:].zfill(3))\n",
    "    return genotipo\n",
    "\n",
    "def gen_to_fen(genotipo):\n",
    "    fenotipo = []\n",
    "    for value in genotipo:\n",
    "        fenotipo.append(int(value,2))\n",
    "    return fenotipo\n",
    "\n",
    "def name_of(member):\n",
    "    return tuple(gen_to_fen(member))"
   ]
  },
  {
   "cell_type": "code",
   "execution_count": 31,
   "id": "bf6b49d2",
   "metadata": {},
   "outputs": [],
   "source": [
    "#Funções para criação randomica de população\n",
    "def permutation_07():\n",
    "    return np.random.permutation([0,1,2,3,4,5,6,7])\n",
    "\n",
    "def create_population(tam, func):\n",
    "    population = []\n",
    "    for member in range(tam):\n",
    "        new_member = func()\n",
    "        population.append(new_member)\n",
    "    return population\n",
    "\n",
    "def population_to_gen(population):\n",
    "    gen_population = []\n",
    "    for member in population:\n",
    "        gen_population.append(fen_to_gen(member))\n",
    "    return gen_population\n"
   ]
  },
  {
   "cell_type": "code",
   "execution_count": null,
   "id": "8bdb3119",
   "metadata": {},
   "outputs": [],
   "source": []
  }
 ],
 "metadata": {
  "kernelspec": {
   "display_name": "Python 3",
   "language": "python",
   "name": "python3"
  },
  "language_info": {
   "codemirror_mode": {
    "name": "ipython",
    "version": 3
   },
   "file_extension": ".py",
   "mimetype": "text/x-python",
   "name": "python",
   "nbconvert_exporter": "python",
   "pygments_lexer": "ipython3",
   "version": "3.9.0"
  }
 },
 "nbformat": 4,
 "nbformat_minor": 5
}
