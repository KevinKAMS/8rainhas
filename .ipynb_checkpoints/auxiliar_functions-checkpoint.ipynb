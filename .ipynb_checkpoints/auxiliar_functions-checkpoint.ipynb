{
 "cells": [
  {
   "cell_type": "code",
   "execution_count": 1,
   "id": "87e67c3d",
   "metadata": {},
   "outputs": [],
   "source": [
    "import pandas as pd\n",
    "import numpy as np\n",
    "import math\n",
    "import os\n",
    "import random"
   ]
  },
  {
   "cell_type": "code",
   "execution_count": 30,
   "id": "59afa95d",
   "metadata": {},
   "outputs": [],
   "source": [
    "#Função para transformar fenotipo em genotipo\n",
    "#Fenotipo é um array com uma permutação de 8 numeros de 0 a 7\n",
    "#Genotipo é um array com uma permutação de 8 trios de 0 ou 1\n",
    "def fen_to_gen(fenotipo):\n",
    "    genotipo = []\n",
    "    for value in fenotipo:\n",
    "        genotipo.append(bin(value)[2:].zfill(3))\n",
    "    return genotipo\n",
    "\n",
    "def gen_to_fen(genotipo):\n",
    "    fenotipo = []\n",
    "    for value in genotipo:\n",
    "        fenotipo.append(int(value,2))\n",
    "    return fenotipo\n",
    "\n",
    "def name_of(member):\n",
    "    return tuple(gen_to_fen(member))"
   ]
  },
  {
   "cell_type": "code",
   "execution_count": 31,
   "id": "9ca0a0a1",
   "metadata": {},
   "outputs": [],
   "source": [
    "#Funções para criação randomica de população\n",
    "def permutation_07():\n",
    "    return np.random.permutation([0,1,2,3,4,5,6,7])\n",
    "\n",
    "def create_population(tam, func):\n",
    "    population = []\n",
    "    for member in range(tam):\n",
    "        new_member = func()\n",
    "        population.append(new_member)\n",
    "    return population\n",
    "\n",
    "def population_to_gen(population):\n",
    "    gen_population = []\n",
    "    for member in population:\n",
    "        gen_population.append(fen_to_gen(member))\n",
    "    return gen_population\n"
   ]
  },
  {
   "cell_type": "code",
   "execution_count": null,
   "id": "bdf02c89",
   "metadata": {},
   "outputs": [],
   "source": []
  },
  {
   "cell_type": "code",
   "execution_count": 29,
   "id": "d275ead9",
   "metadata": {},
   "outputs": [
    {
     "name": "stdout",
     "output_type": "stream",
     "text": [
      "0.6432947198600169\n",
      "0.8646928146911013\n"
     ]
    }
   ],
   "source": [
    "#Funções para calcular o Fit\n",
    "def attack_check(member):\n",
    "    return random.random()\n",
    "\n",
    "print(attack_check(1))\n",
    "    \n",
    "def fit_check(member):\n",
    "    return (1/(1+(attack_check(member))))\n",
    "\n",
    "print(fit_check(1))"
   ]
  },
  {
   "cell_type": "code",
   "execution_count": null,
   "id": "963dcba9",
   "metadata": {},
   "outputs": [],
   "source": []
  }
 ],
 "metadata": {
  "kernelspec": {
   "display_name": "Python 3",
   "language": "python",
   "name": "python3"
  },
  "language_info": {
   "codemirror_mode": {
    "name": "ipython",
    "version": 3
   },
   "file_extension": ".py",
   "mimetype": "text/x-python",
   "name": "python",
   "nbconvert_exporter": "python",
   "pygments_lexer": "ipython3",
   "version": "3.9.0"
  }
 },
 "nbformat": 4,
 "nbformat_minor": 5
}
